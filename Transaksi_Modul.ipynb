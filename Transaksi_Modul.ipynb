{
  "nbformat": 4,
  "nbformat_minor": 0,
  "metadata": {
    "colab": {
      "provenance": [],
      "toc_visible": true,
      "authorship_tag": "ABX9TyMQOrW4MSRlgZjq8ThHZ1GH",
      "include_colab_link": true
    },
    "kernelspec": {
      "name": "python3",
      "display_name": "Python 3"
    },
    "language_info": {
      "name": "python"
    }
  },
  "cells": [
    {
      "cell_type": "markdown",
      "metadata": {
        "id": "view-in-github",
        "colab_type": "text"
      },
      "source": [
        "<a href=\"https://colab.research.google.com/github/ypenina/Cashier-Project/blob/master/Transaksi_Modul.ipynb\" target=\"_parent\"><img src=\"https://colab.research.google.com/assets/colab-badge.svg\" alt=\"Open In Colab\"/></a>"
      ]
    },
    {
      "cell_type": "code",
      "source": [
        "#install tabulate module\n",
        "!pip install tabulate"
      ],
      "metadata": {
        "colab": {
          "base_uri": "https://localhost:8080/"
        },
        "id": "x-EZw2czixFd",
        "outputId": "e80ab20f-6b45-4e62-c75d-03073c12db37"
      },
      "execution_count": 27,
      "outputs": [
        {
          "output_type": "stream",
          "name": "stdout",
          "text": [
            "Looking in indexes: https://pypi.org/simple, https://us-python.pkg.dev/colab-wheels/public/simple/\n",
            "Requirement already satisfied: tabulate in /usr/local/lib/python3.8/dist-packages (0.8.10)\n"
          ]
        }
      ]
    },
    {
      "cell_type": "code",
      "source": [
        "import cashier as c"
      ],
      "metadata": {
        "id": "eISEbQTkdMSj"
      },
      "execution_count": null,
      "outputs": []
    },
    {
      "cell_type": "code",
      "source": [
        "transaction_123 = c.Transaction()"
      ],
      "metadata": {
        "id": "YD0SCFIjcyxs"
      },
      "execution_count": null,
      "outputs": []
    },
    {
      "cell_type": "code",
      "source": [
        "Adding Items\n",
        "Customer ingin menambah 2 items di order list:\n",
        "1. Ayam Goreng, Qty: 2, Harga: 20000\n",
        "2. Pasta Gigi, Qty: 3, Harga: 15000\n",
        "\n",
        "transaction_123.add_item(\"Ayam Goreng\", 2, 2000) #Add Ayam Goreng\n",
        "transcation_123.add_item(\"Pasta Gigi\", 3, 15000) #Addd Pasta Gigi\n",
        "print(transcation_123.order_items) #print the order list dictionary\n",
        "transaction_123.show_order_table() #Display the order list as a table"
      ],
      "metadata": {
        "id": "YPTUy_t8bd4b"
      },
      "execution_count": null,
      "outputs": []
    }
  ]
}